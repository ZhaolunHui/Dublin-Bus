{
 "cells": [
  {
   "cell_type": "code",
   "execution_count": null,
   "metadata": {},
   "outputs": [],
   "source": [
    "from operator import itemgetter\n",
    "list_bus_lines = [('150',), ('42',), ('130',), ('120',), ('14',),('155',),  ('54A',), ('16',), ('66',), ('37',), ('15A',), ('4',),('46A',),('145',), ('68A',), ('49',), ('40',), ('70',), ('38A',), ('83',), ('747',), ('27',), ('66B',), ('79',), ('122',), ('40D',), ('9',), ('11',), ('140',), ('1',), ('757',), ('47',), ('38',), ('25B',), ('15',), ('29A',), ('66A',), ('65',), ('7',), ('39A',), ('41',), ('15B',), ('77A',), ('83A',), ('27B',), ('25A',), ('40B',), ('151',), ('123',), ('32',), ('43',), ('27X',), ('84',), ('79A',), ('44',), ('39',), ('33X',), ('14C',), ('84A',), ('27A',), ('65B',), ('41C',), ('31A',), ('31',), ('13',), ('69',), ('7A',), ('40E',), ('25',), ('53',), ('61',), ('68',), ('26',), ('56A',), ('7D',), ('67',), ('33',), ('66X',), ('66E',), ('38B',), ('67X',), ('116',), ('16C',), ('44B',), ('38D',), ('31B',), ('41B',), ('25D',), ('32X',), ('51D',), ('16D',), ('46E',), ('84X',), ('7B',), ('69X',), ('15D',), ('41X',), ('142',), ('68X',), ('25X',), ('39X',), ('41D',), ('33D',), ('51X',), ('77X',), ('118',), ('33E',)]\n",
    "list_bus_lines = list(map(itemgetter(0),list_bus_lines))\n",
    "len(list_bus_lines)\n",
    "#('150',), ('42',), ('130',), ('120',), ('14',),('155',),  ('54A',), ('16',), ('66',), ('37',), ('15A',), ('4',), "
   ]
  },
  {
   "cell_type": "code",
   "execution_count": null,
   "metadata": {},
   "outputs": [],
   "source": [
    "import pymysql,json\n",
    "#Extract trip ids of individual bus lines\n",
    "def extract_tripsid_bus_line(bus_line):\n",
    "    print(bus_line)\n",
    "    sql = \"select distinct trips100.TRIPID,trips100.LINEID from dublinbus.trips100 where trips100.LINEID=%s and DAYOFSERVICE like %s\"\n",
    "    db = pymysql.connect(host=\"127.0.0.1\",  # your host\n",
    "                         port = 3307,\n",
    "                         user=\"admin\",  # username\n",
    "                         password=\"Ucd-nl-2018\",  # password\n",
    "                         db=\"dublinbus\", # name of the database\n",
    "                        use_unicode=True, \n",
    "                         charset='utf8') \n",
    "\n",
    "    month = '%'+\"DEC\"+'%'\n",
    "    cursor = db.cursor()\n",
    "    cursor.execute(sql,(bus_line,month,))\n",
    "    result = cursor.fetchall()\n",
    "    return result"
   ]
  },
  {
   "cell_type": "code",
   "execution_count": null,
   "metadata": {},
   "outputs": [],
   "source": [
    "import pymysql,json\n",
    "def create_list_bus_lines(trip_id):\n",
    "\n",
    "    sql = \" select * from dublinbus.minLeavetimes where TRIPID =%s\" \n",
    "    db = pymysql.connect(host=\"127.0.0.1\",  # your host\n",
    "                         port = 3307,\n",
    "                         user=\"admin\",  # username\n",
    "                         password=\"Ucd-nl-2018\",  # password\n",
    "                         db=\"dublinbus\", # name of the database\n",
    "                        use_unicode=True, \n",
    "                         charset='utf8') \n",
    "\n",
    "\n",
    "    cursor = db.cursor()\n",
    "    cursor.execute(sql,(trip_id,))\n",
    "    result = cursor.fetchall()\n",
    "    return result"
   ]
  },
  {
   "cell_type": "code",
   "execution_count": null,
   "metadata": {},
   "outputs": [],
   "source": [
    "d = {} #Dictionary to store each bus-line's dataframe as an individual key"
   ]
  },
  {
   "cell_type": "code",
   "execution_count": null,
   "metadata": {},
   "outputs": [],
   "source": [
    "\n",
    "def create_dataframe_individual_bus_lines(full_list_bus_line,bus_line):\n",
    "    try:\n",
    "        import numpy as np\n",
    "        import pandas as pd\n",
    "        d[bus_line] = pd.DataFrame()\n",
    "        # Creating an empty Dataframe with column names only\n",
    "        for i in full_list_bus_line:\n",
    "            i = list(i)\n",
    "            d[bus_line] = d[bus_line].append(i, ignore_index = True)\n",
    "    except:\n",
    "        print(\"There had been an error for \",bus_line)\n",
    "        pass\n"
   ]
  },
  {
   "cell_type": "code",
   "execution_count": null,
   "metadata": {},
   "outputs": [],
   "source": [
    "for i in list_bus_lines:\n",
    "    result = extract_tripsid_bus_line(i)\n",
    "    full_list_bus_line = []\n",
    "    for j in result:\n",
    "        get_data = create_list_bus_lines(j[0])\n",
    "        full_list_bus_line.append(get_data)\n",
    "    create_dataframe_individual_bus_lines(full_list_bus_line,i)\n",
    "    "
   ]
  },
  {
   "cell_type": "code",
   "execution_count": null,
   "metadata": {},
   "outputs": [],
   "source": [
    "#This keys are deleted beacuse there is no data related to them in UCD's database\n",
    "del d['155']\n",
    "\n",
    "del d['747']\n",
    "del d['757']\n",
    "del d['66E']"
   ]
  },
  {
   "cell_type": "code",
   "execution_count": null,
   "metadata": {},
   "outputs": [],
   "source": [
    "list1 = list(d.keys())\n",
    "print(list1)"
   ]
  },
  {
   "cell_type": "code",
   "execution_count": null,
   "metadata": {},
   "outputs": [],
   "source": [
    "import numpy as np\n",
    "import pandas as pd\n",
    "import seaborn as sns\n",
    "from sklearn.linear_model import LinearRegression\n",
    "from sklearn.ensemble import RandomForestRegressor\n",
    "from sklearn.model_selection import train_test_split\n",
    "from sklearn import metrics\n",
    "pd.options.mode.chained_assignment=None\n",
    "%matplotlib inline\n",
    "import pickle\n",
    "import datetime\n"
   ]
  },
  {
   "cell_type": "markdown",
   "metadata": {},
   "source": [
    "#### This is for bus lines operating Monday-Sunday"
   ]
  },
  {
   "cell_type": "code",
   "execution_count": null,
   "metadata": {},
   "outputs": [],
   "source": [
    "def train_models_generate_pickles(value):\n",
    "    try:\n",
    "        df = d[value].copy()\n",
    "        df.drop(df.columns[[1,5,8]],axis=1,inplace=True)\n",
    "        date = df[[0]]\n",
    "        date = list(date[0])\n",
    "        extract_date = []\n",
    "        for i in date:\n",
    "            new_date = i[0:9]\n",
    "            extract_date.append(new_date)\n",
    "        extract_week_day = []\n",
    "        for i in extract_date:\n",
    "            extract_week_day.append(datetime.datetime.strptime(i, '%d-%b-%y').strftime('%A'))\n",
    "        df = df.assign(Extracted_Date=extract_date)\n",
    "        df = df.assign(Day=extract_week_day)\n",
    "        df.rename({0:'DateTime', 2: 'Sequence',3:'StopID',4:'Planned_Arr',6:'Actual_Arr',7:'Actual_Depart'},axis=1,inplace=True)  # new method\n",
    "        data_input1= pd.DataFrame(df['Day'])\n",
    "        dummy = pd.get_dummies(data_input1)\n",
    "        df=pd.concat([df,dummy],axis=1)\n",
    "        input_to_model=pd.DataFrame(df[['Sequence','StopID','Planned_Arr','Day_Monday','Day_Saturday','Day_Sunday','Day_Thursday','Day_Tuesday','Day_Wednesday']])\n",
    "        #Day_Friday has been taken out because if mon-sun all are zeroes that means friday is 1. Using dummy one hot encoding concept\n",
    "        #print(input_model)\n",
    "        output = df['Actual_Arr']\n",
    "        X_train,X_test,Y_train,Y_test=train_test_split(input_to_model,output,test_size=0.33,random_state=42)\n",
    "        print(\"DataFrame is for \",value)\n",
    "        print (X_train.shape)\n",
    "        rf=RandomForestRegressor(n_estimators=20)\n",
    "        rf.fit(X_train,Y_train)\n",
    "        print(Y_test.shape)\n",
    "        prediction=rf.predict(X_test)\n",
    "        #Model Evaluation Parameters: RMSE\n",
    "        print(np.sqrt(metrics.mean_squared_error(Y_test,prediction)))\n",
    "        value = str(value)\n",
    "        filename = value+\".pickle\"\n",
    "        pickle.dump(rf,open(filename,'wb'))\n",
    "    except:\n",
    "        \n",
    "        print(\"Error was for dataframe\",value)\n",
    "        pass\n",
    "    \n",
    "    \n",
    "    "
   ]
  },
  {
   "cell_type": "code",
   "execution_count": null,
   "metadata": {},
   "outputs": [],
   "source": [
    "for value in list1:\n",
    "    train_models_generate_pickles(value)\n"
   ]
  },
  {
   "cell_type": "markdown",
   "metadata": {},
   "source": [
    "#### This is for bus lines operating Monday-Friday only"
   ]
  },
  {
   "cell_type": "code",
   "execution_count": null,
   "metadata": {},
   "outputs": [],
   "source": [
    "list2 = ['68A','747','66B','757','27X','33X','84A','7D','66X','66E','38B','67X','116','44B','38D','31B','25D', '32X', '51D', '16D', '46E', '84X', '7B', '69X', '15D', '41X', '142', '68X', '25X', '39X', '41D', '33D', '51X', '77X', '118', '33E']"
   ]
  },
  {
   "cell_type": "code",
   "execution_count": null,
   "metadata": {},
   "outputs": [],
   "source": [
    "\n",
    "#fixes the \"['Day_Sunday', 'Day_Saturday'] not in index\" error beacuse these bus lines would not have dummy encoding for the weekends\n",
    "def train_models_generate_pickles_mon_fri(value):\n",
    "    try:\n",
    "        df = d[value].copy()\n",
    "        df.drop(df.columns[[1,5,8]],axis=1,inplace=True)\n",
    "        date = df[[0]]\n",
    "        date = list(date[0])\n",
    "        extract_date = []\n",
    "        for i in date:\n",
    "            new_date = i[0:9]\n",
    "            extract_date.append(new_date)\n",
    "        extract_week_day = []\n",
    "        for i in extract_date:\n",
    "            extract_week_day.append(datetime.datetime.strptime(i, '%d-%b-%y').strftime('%A'))\n",
    "        df = df.assign(Extracted_Date=extract_date)\n",
    "        df = df.assign(Day=extract_week_day)\n",
    "        df.rename({0:'DateTime', 2: 'Sequence',3:'StopID',4:'Planned_Arr',6:'Actual_Arr',7:'Actual_Depart'},axis=1,inplace=True)  # new method\n",
    "        data_input1= pd.DataFrame(df['Day'])\n",
    "        dummy = pd.get_dummies(data_input1)\n",
    "        df=pd.concat([df,dummy],axis=1)\n",
    "        input_to_model=pd.DataFrame(df[['Sequence','StopID','Planned_Arr','Day_Friday','Day_Monday','Day_Thursday','Day_Tuesday','Day_Wednesday']])\n",
    "        output = df['Actual_Arr']\n",
    "        X_train,X_test,Y_train,Y_test=train_test_split(input_to_model,output,test_size=0.33,random_state=42)\n",
    "        print(\"DataFrame is for \",value)\n",
    "        print (X_train.shape)\n",
    "        rf=RandomForestRegressor(n_estimators=20)\n",
    "        rf.fit(X_train,Y_train)\n",
    "        print(Y_test.shape)\n",
    "        prediction=rf.predict(X_test)\n",
    "        #Model Evaluation Parameters: RMSE\n",
    "        print(np.sqrt(metrics.mean_squared_error(Y_test,prediction)))\n",
    "        value = str(value)\n",
    "        filename = value+\".pickle\"\n",
    "        pickle.dump(rf,open(filename,'wb'))\n",
    "    except:\n",
    "        \n",
    "        print(\"Error was for dataframe\",value)\n",
    "        pass\n",
    "    \n",
    "    \n",
    "    "
   ]
  },
  {
   "cell_type": "code",
   "execution_count": null,
   "metadata": {},
   "outputs": [],
   "source": [
    "for value in list2:\n",
    "    train_models_generate_pickles_mon_fri(value)\n",
    "    "
   ]
  },
  {
   "cell_type": "code",
   "execution_count": null,
   "metadata": {},
   "outputs": [],
   "source": []
  }
 ],
 "metadata": {
  "kernelspec": {
   "display_name": "Python 3",
   "language": "python",
   "name": "python3"
  },
  "language_info": {
   "codemirror_mode": {
    "name": "ipython",
    "version": 3
   },
   "file_extension": ".py",
   "mimetype": "text/x-python",
   "name": "python",
   "nbconvert_exporter": "python",
   "pygments_lexer": "ipython3",
   "version": "3.7.1"
  }
 },
 "nbformat": 4,
 "nbformat_minor": 2
}
